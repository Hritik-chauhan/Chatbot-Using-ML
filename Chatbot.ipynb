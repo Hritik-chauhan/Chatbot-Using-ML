{
 "cells": [
  {
   "cell_type": "code",
   "execution_count": 1,
   "id": "3cacd92d",
   "metadata": {
    "scrolled": false
   },
   "outputs": [
    {
     "name": "stderr",
     "output_type": "stream",
     "text": [
      "[nltk_data] Downloading package omw-1.4 to\n",
      "[nltk_data]     C:\\Users\\hriti\\AppData\\Roaming\\nltk_data...\n",
      "[nltk_data]   Package omw-1.4 is already up-to-date!\n"
     ]
    }
   ],
   "source": [
    "import numpy as np\n",
    "import nltk\n",
    "nltk.download('omw-1.4')\n",
    "import string\n",
    "import random"
   ]
  },
  {
   "cell_type": "code",
   "execution_count": 2,
   "id": "9779c7a5",
   "metadata": {},
   "outputs": [
    {
     "name": "stderr",
     "output_type": "stream",
     "text": [
      "[nltk_data] Downloading package punkt to\n",
      "[nltk_data]     C:\\Users\\hriti\\AppData\\Roaming\\nltk_data...\n",
      "[nltk_data]   Package punkt is already up-to-date!\n",
      "[nltk_data] Downloading package wordnet to\n",
      "[nltk_data]     C:\\Users\\hriti\\AppData\\Roaming\\nltk_data...\n",
      "[nltk_data]   Package wordnet is already up-to-date!\n"
     ]
    }
   ],
   "source": [
    "f=open('C:/Users/hriti/Downloads/chatbot.txt','r',errors = 'ignore')\n",
    "raw_doc=f.read()\n",
    "raw_doc=raw_doc.lower() #Converts text to lowercase\n",
    "nltk.download('punkt') #Using the Punkt tokenizer\n",
    "nltk.download('wordnet' ) #Using the WordNet dictionary\n",
    "sent_tokens = nltk.sent_tokenize(raw_doc) #Converts doc to list of sentences\n",
    "word_tokens = nltk.word_tokenize(raw_doc) #Converts doc to list of words"
   ]
  },
  {
   "cell_type": "code",
   "execution_count": 3,
   "id": "f2e0ca11",
   "metadata": {
    "scrolled": true
   },
   "outputs": [
    {
     "data": {
      "text/plain": [
       "['data science is an interdisciplinary field that uses scientific methods, processes, algorithms and systems to extract or extrapolate knowledge and insights from noisy, structured and unstructured data,[1][2] and apply knowledge from data across a broad range of application domains.',\n",
       " 'data science is related to data mining, machine learning and big data.']"
      ]
     },
     "execution_count": 3,
     "metadata": {},
     "output_type": "execute_result"
    }
   ],
   "source": [
    "sent_tokens[:2]"
   ]
  },
  {
   "cell_type": "code",
   "execution_count": 4,
   "id": "b56b06ff",
   "metadata": {},
   "outputs": [
    {
     "data": {
      "text/plain": [
       "['data', 'science', 'is']"
      ]
     },
     "execution_count": 4,
     "metadata": {},
     "output_type": "execute_result"
    }
   ],
   "source": [
    "word_tokens[:3]"
   ]
  },
  {
   "cell_type": "code",
   "execution_count": 5,
   "id": "5c64e500",
   "metadata": {},
   "outputs": [],
   "source": [
    "lemmer = nltk.stem.WordNetLemmatizer()\n",
    "#WordNet is a semantically-oriented dictionary of English included in NLTK.\n",
    "def LemTokens(tokens):\n",
    "   return [lemmer.lemmatize(token) for token in tokens]\n",
    "remove_punct_dict = dict((ord(punct), None) for punct in string.punctuation)\n",
    "def LemNormalize(text):\n",
    "   return LemTokens(nltk.word_tokenize(text.lower().translate(remove_punct_dict)))"
   ]
  },
  {
   "cell_type": "code",
   "execution_count": 6,
   "id": "580b4738",
   "metadata": {},
   "outputs": [],
   "source": [
    "GREET_INPUTS = (\"hello\", \"hi\", \"greetings\", \"sup\", \"what's up\",\"hey\")\n",
    "GREET_RESPONSES = [\"hi✌️\", \"hey🥱\", \" nods🙋 \", \"hi there😊\", \"hello😎\", \"I am glad! You are talking to me🤗\"]\n",
    "def greet(sentence):\n",
    "   for word in sentence.split():\n",
    "      if word.lower() in GREET_INPUTS:\n",
    "         return random.choice(GREET_RESPONSES)"
   ]
  },
  {
   "cell_type": "code",
   "execution_count": 7,
   "id": "0c61a79c",
   "metadata": {},
   "outputs": [],
   "source": [
    "from sklearn.feature_extraction.text import TfidfVectorizer\n",
    "from sklearn.metrics.pairwise import cosine_similarity "
   ]
  },
  {
   "cell_type": "code",
   "execution_count": 8,
   "id": "7107f474",
   "metadata": {},
   "outputs": [],
   "source": [
    "def response(user_response):\n",
    "   robo1_response=''\n",
    "   TfidfVec = TfidfVectorizer(tokenizer=LemNormalize, stop_words='english')\n",
    "   tfidf = TfidfVec.fit_transform(sent_tokens)\n",
    "   vals= cosine_similarity(tfidf[-1], tfidf)\n",
    "   idx=vals.argsort()[0][-2]\n",
    "   flat = vals.flatten()\n",
    "   flat.sort()\n",
    "   req_tfidf = flat[-2]\n",
    "   if(req_tfidf == 0):\n",
    "     robo1_response=robo1_response+\"I am sorry! I don't understand you\"\n",
    "     return robo1_response\n",
    "   else:\n",
    "     robo1_response = robo1_response+sent_tokens[idx]\n",
    "     return robo1_response"
   ]
  },
  {
   "cell_type": "code",
   "execution_count": null,
   "id": "83966a35",
   "metadata": {
    "scrolled": true
   },
   "outputs": [
    {
     "name": "stdout",
     "output_type": "stream",
     "text": [
      "BOT:My name is Jarvis. Let's have a conversation! Also, if you want to exit any time, just type Bye!\n",
      "hey baby\n",
      "BOT:  nods🙋 \n",
      "wassup\n",
      "BOT: "
     ]
    },
    {
     "name": "stderr",
     "output_type": "stream",
     "text": [
      "C:\\Users\\hriti\\AppData\\Local\\Packages\\PythonSoftwareFoundation.Python.3.10_qbz5n2kfra8p0\\LocalCache\\local-packages\\Python310\\site-packages\\sklearn\\feature_extraction\\text.py:404: UserWarning: Your stop_words may be inconsistent with your preprocessing. Tokenizing the stop words generated tokens ['ha', 'le', 'u', 'wa'] not in stop_words.\n",
      "  warnings.warn(\n"
     ]
    },
    {
     "name": "stdout",
     "output_type": "stream",
     "text": [
      "I am sorry! I don't understand you\n",
      "whatsapp\n",
      "BOT: I am sorry! I don't understand you\n"
     ]
    }
   ],
   "source": [
    "flag=True\n",
    "print(\"BOT:My name is Jarvis. Let's have a conversation! Also, if you want to exit any time, just type Bye!\")\n",
    "while(flag == True):\n",
    "   user_response = input()\n",
    "   user_response=user_response.lower()\n",
    "   if(user_response!='bye'):\n",
    "       if(user_response =='thanks' or user_response =='thank you'):\n",
    "          flag=False\n",
    "          print(\"BOT: You are welcome ..\")\n",
    "       else:\n",
    "          if(greet(user_response)!=None):\n",
    "              print(\"BOT: \"+greet(user_response))\n",
    "          else:\n",
    "             sent_tokens.append(user_response)\n",
    "             word_tokens=word_tokens+nltk.word_tokenize(user_response)\n",
    "             final_words=list(set(word_tokens))\n",
    "             print(\"BOT: \",end=\"\")\n",
    "             print(response(user_response))\n",
    "             sent_tokens.remove(user_response)\n",
    "   else:\n",
    "       flag = False\n",
    "       print(\"BOT : Goodbye! Take care :) . its nice talking to you...😁\")\n",
    "    "
   ]
  },
  {
   "cell_type": "code",
   "execution_count": null,
   "id": "bf08c213",
   "metadata": {},
   "outputs": [],
   "source": []
  },
  {
   "cell_type": "code",
   "execution_count": null,
   "id": "72cea06a",
   "metadata": {},
   "outputs": [],
   "source": []
  }
 ],
 "metadata": {
  "kernelspec": {
   "display_name": "Python 3 (ipykernel)",
   "language": "python",
   "name": "python3"
  },
  "language_info": {
   "codemirror_mode": {
    "name": "ipython",
    "version": 3
   },
   "file_extension": ".py",
   "mimetype": "text/x-python",
   "name": "python",
   "nbconvert_exporter": "python",
   "pygments_lexer": "ipython3",
   "version": "3.10.6"
  }
 },
 "nbformat": 4,
 "nbformat_minor": 5
}
